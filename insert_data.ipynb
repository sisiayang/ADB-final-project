{
 "cells": [
  {
   "cell_type": "code",
   "execution_count": null,
   "metadata": {},
   "outputs": [],
   "source": [
    "# pip install psycopg2"
   ]
  },
  {
   "cell_type": "code",
   "execution_count": 1,
   "metadata": {},
   "outputs": [],
   "source": [
    "import psycopg2"
   ]
  },
  {
   "attachments": {},
   "cell_type": "markdown",
   "metadata": {},
   "source": [
    "data 格式: id、Address、Response_X、Response_Y"
   ]
  },
  {
   "cell_type": "code",
   "execution_count": 6,
   "metadata": {},
   "outputs": [
    {
     "name": "stdout",
     "output_type": "stream",
     "text": [
      "Opened database successfully\n"
     ]
    }
   ],
   "source": [
    "conn = psycopg2.connect(database=\"final_project\", user=\"postgres\", password=\"1234\", host=\"127.0.0.1\", port=\"5432\")\n",
    "with(conn):\n",
    "    print(\"Opened database successfully\")"
   ]
  },
  {
   "cell_type": "code",
   "execution_count": 39,
   "metadata": {},
   "outputs": [
    {
     "name": "stdout",
     "output_type": "stream",
     "text": [
      "Table created successfully\n"
     ]
    }
   ],
   "source": [
    "cur = conn.cursor()\n",
    "cur.execute('''CREATE TABLE addr\n",
    "       (ID INT PRIMARY KEY     NOT NULL,\n",
    "       Address           varchar,\n",
    "       Response_X            float8,\n",
    "       Response_Y             float8);''')\n",
    "\n",
    "conn.commit()\n",
    "print(\"Table created successfully\")"
   ]
  },
  {
   "cell_type": "code",
   "execution_count": null,
   "metadata": {},
   "outputs": [],
   "source": [
    "cur = conn.cursor()\n",
    "file_list = [14, 15, 16, 17, 18, 19, 21]\n",
    "path = 'processed_addr/'\n",
    "for i in file_list:\n",
    "    path = 'processed_addr/addr_' + str(i) + '.csv'\n",
    "    with open(path, 'r', encoding='utf-8') as f:\n",
    "        next(f)\n",
    "        cur.copy_from(f, 'addr', sep=',', )\n",
    "    f.close()\n",
    "print(\"insert data successfully\")\n",
    "cur.execute('''ALTER TABLE addr ADD geo geography;''')\n",
    "conn.commit()"
   ]
  },
  {
   "cell_type": "code",
   "execution_count": 41,
   "metadata": {},
   "outputs": [
    {
     "name": "stdout",
     "output_type": "stream",
     "text": [
      "update geography data successfully\n"
     ]
    }
   ],
   "source": [
    "cur = conn.cursor()\n",
    "cur.execute('''update addr\n",
    "set geo = st_geogfromtext('POINT(' || response_x || ' ' || response_y || ')')\n",
    "where geo is NULL;''')\n",
    "\n",
    "conn.commit()\n",
    "print(\"update geography data successfully\")"
   ]
  },
  {
   "cell_type": "code",
   "execution_count": 5,
   "metadata": {},
   "outputs": [],
   "source": [
    "conn.close()"
   ]
  },
  {
   "attachments": {},
   "cell_type": "markdown",
   "metadata": {},
   "source": [
    "---"
   ]
  },
  {
   "attachments": {},
   "cell_type": "markdown",
   "metadata": {},
   "source": [
    "insert warehouse data"
   ]
  },
  {
   "cell_type": "code",
   "execution_count": 8,
   "metadata": {},
   "outputs": [
    {
     "name": "stdout",
     "output_type": "stream",
     "text": [
      "Table created successfully\n",
      "data inserted successfully\n"
     ]
    }
   ],
   "source": [
    "cur = conn.cursor()\n",
    "cur.execute('''CREATE TABLE w\n",
    "       (ID INT PRIMARY KEY     NOT NULL,\n",
    "       warehouse            varchar,\n",
    "       location             varchar,\n",
    "       address              varchar,\n",
    "       response_x           float8,\n",
    "       response_y           float8, \n",
    "       geo                  geography);''')\n",
    "\n",
    "conn.commit()\n",
    "print(\"Table created successfully\")\n",
    "\n",
    "cur = conn.cursor()\n",
    "with open('final_table/warehouse.csv', 'r', encoding='utf-8') as f:\n",
    "    next(f)\n",
    "    cur.copy_from(f, 'w', sep=',', )\n",
    "conn.commit()\n",
    "print(\"data inserted successfully\")\n",
    "conn.close()"
   ]
  },
  {
   "cell_type": "code",
   "execution_count": 100,
   "metadata": {},
   "outputs": [
    {
     "name": "stdout",
     "output_type": "stream",
     "text": [
      "Table created successfully\n",
      "data inserted successfully\n",
      "update geography data successfully\n"
     ]
    }
   ],
   "source": [
    "cur = conn.cursor()\n",
    "cur.execute('''CREATE TABLE warehouse_info\n",
    "       (ID INT PRIMARY KEY     NOT NULL,\n",
    "       warehouse           varchar,\n",
    "       location            varchar,\n",
    "       address             varchar,\n",
    "       response_x         float8,\n",
    "       response_y         float8);''')\n",
    "\n",
    "conn.commit()\n",
    "print(\"Table created successfully\")\n",
    "\n",
    "with open('warehouse_info.csv', 'r', encoding='utf-8') as f:\n",
    "    next(f)\n",
    "    cur.copy_from(f, 'warehouse_info', sep=',', )\n",
    "conn.commit()\n",
    "print(\"data inserted successfully\")\n",
    "\n",
    "cur.execute('''ALTER TABLE warehouse_info ADD geo geography;''')\n",
    "conn.commit()\n",
    "\n",
    "cur.execute('''update warehouse_info\n",
    "set geo = st_geogfromtext('POINT(' || response_x || ' ' || response_y || ')')\n",
    "where geo is NULL;''')\n",
    "conn.commit()\n",
    "print(\"update geography data successfully\")"
   ]
  },
  {
   "attachments": {},
   "cell_type": "markdown",
   "metadata": {},
   "source": [
    "insert area information"
   ]
  },
  {
   "cell_type": "code",
   "execution_count": 49,
   "metadata": {},
   "outputs": [
    {
     "name": "stdout",
     "output_type": "stream",
     "text": [
      "Table created successfully\n",
      "data inserted successfully\n"
     ]
    }
   ],
   "source": [
    "# cur = conn.cursor()\n",
    "# cur.execute('''CREATE TABLE area\n",
    "#        (ID INT PRIMARY KEY     NOT NULL,\n",
    "#        area           varchar);''')\n",
    "\n",
    "# conn.commit()\n",
    "# print(\"Table created successfully\")\n",
    "\n",
    "# with open('area.csv', 'r', encoding='utf-8') as f:\n",
    "#     next(f)\n",
    "#     cur.copy_from(f, 'area', sep=',', )\n",
    "# conn.commit()\n",
    "# print(\"data inserted successfully\")"
   ]
  },
  {
   "attachments": {},
   "cell_type": "markdown",
   "metadata": {},
   "source": [
    "insert supplier information"
   ]
  },
  {
   "cell_type": "code",
   "execution_count": 66,
   "metadata": {},
   "outputs": [
    {
     "name": "stdout",
     "output_type": "stream",
     "text": [
      "data inserted successfully\n"
     ]
    }
   ],
   "source": [
    "cur = conn.cursor()\n",
    "# cur.execute('''CREATE TABLE supplier\n",
    "#        (ID INT PRIMARY KEY     NOT NULL,\n",
    "#        name                  varchar, \n",
    "#        address               varchar);''')\n",
    "\n",
    "# conn.commit()\n",
    "# print(\"Table created successfully\")\n",
    "\n",
    "with open('supplier_delete.csv', 'r', encoding='utf-8') as f:\n",
    "    next(f)\n",
    "    cur.copy_from(f, 'supplier', sep=',', )\n",
    "conn.commit()\n",
    "print(\"data inserted successfully\")"
   ]
  },
  {
   "attachments": {},
   "cell_type": "markdown",
   "metadata": {},
   "source": [
    "insert products information"
   ]
  },
  {
   "cell_type": "code",
   "execution_count": 86,
   "metadata": {},
   "outputs": [
    {
     "name": "stdout",
     "output_type": "stream",
     "text": [
      "Table created successfully\n",
      "data inserted successfully\n"
     ]
    }
   ],
   "source": [
    "cur = conn.cursor()\n",
    "# cur.execute('''CREATE TABLE product\n",
    "#        (ID INT PRIMARY KEY     NOT NULL,\n",
    "#        sid                  INT, \n",
    "#        class                INT, \n",
    "#        name                 varchar);''')\n",
    "\n",
    "# conn.commit()\n",
    "# print(\"Table created successfully\")\n",
    "\n",
    "with open('Main_sku_combined_delete.csv', 'r', encoding='utf-8') as f:\n",
    "    next(f)\n",
    "    cur.copy_from(f, 'product', sep=',', )\n",
    "conn.commit()\n",
    "print(\"data inserted successfully\")"
   ]
  },
  {
   "cell_type": "code",
   "execution_count": 85,
   "metadata": {},
   "outputs": [],
   "source": [
    "# cur = conn.cursor()\n",
    "# cur.execute('''DROP TABLE product;''')\n",
    "\n",
    "# conn.commit()"
   ]
  },
  {
   "attachments": {},
   "cell_type": "markdown",
   "metadata": {},
   "source": [
    "insert product & warehouse"
   ]
  },
  {
   "cell_type": "code",
   "execution_count": 97,
   "metadata": {},
   "outputs": [
    {
     "name": "stdout",
     "output_type": "stream",
     "text": [
      "data inserted successfully\n"
     ]
    }
   ],
   "source": [
    "cur = conn.cursor()\n",
    "cur.execute('''CREATE TABLE product_warehouse\n",
    "       (ID INT               NOT NULL,\n",
    "       warehouse VARCHAR     NOT NULL,\n",
    "       PRIMARY KEY (ID, warehouse));''')\n",
    "\n",
    "conn.commit()\n",
    "print(\"Table created successfully\")\n",
    "\n",
    "with open('product_warehouse.csv', 'r', encoding='utf-8') as f:\n",
    "    next(f)\n",
    "    cur.copy_from(f, 'product_warehouse', sep=',', )\n",
    "conn.commit()\n",
    "print(\"data inserted successfully\")"
   ]
  },
  {
   "cell_type": "code",
   "execution_count": null,
   "metadata": {},
   "outputs": [],
   "source": []
  }
 ],
 "metadata": {
  "kernelspec": {
   "display_name": "base",
   "language": "python",
   "name": "python3"
  },
  "language_info": {
   "codemirror_mode": {
    "name": "ipython",
    "version": 3
   },
   "file_extension": ".py",
   "mimetype": "text/x-python",
   "name": "python",
   "nbconvert_exporter": "python",
   "pygments_lexer": "ipython3",
   "version": "3.9.12"
  },
  "orig_nbformat": 4,
  "vscode": {
   "interpreter": {
    "hash": "a077222d77dfe082b8f1dd562ad70e458ac2ab76993a0b248ab0476e32e9e8dd"
   }
  }
 },
 "nbformat": 4,
 "nbformat_minor": 2
}
