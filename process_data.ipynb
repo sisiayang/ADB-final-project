{
 "cells": [
  {
   "cell_type": "code",
   "execution_count": 60,
   "metadata": {},
   "outputs": [],
   "source": [
    "import pandas as pd\n",
    "import numpy as np"
   ]
  },
  {
   "attachments": {},
   "cell_type": "markdown",
   "metadata": {},
   "source": [
    "For TGOS data"
   ]
  },
  {
   "cell_type": "code",
   "execution_count": 61,
   "metadata": {},
   "outputs": [],
   "source": [
    "file_list = [14, 15, 16, 17, 18, 21, 22, 23, 29, 30, 31]"
   ]
  },
  {
   "cell_type": "code",
   "execution_count": 62,
   "metadata": {},
   "outputs": [
    {
     "name": "stdout",
     "output_type": "stream",
     "text": [
      "addr_14.csv\n"
     ]
    },
    {
     "name": "stderr",
     "output_type": "stream",
     "text": [
      "C:\\Users\\user\\AppData\\Local\\Temp\\ipykernel_5220\\4170425425.py:8: SettingWithCopyWarning: \n",
      "A value is trying to be set on a copy of a slice from a DataFrame\n",
      "\n",
      "See the caveats in the documentation: https://pandas.pydata.org/pandas-docs/stable/user_guide/indexing.html#returning-a-view-versus-a-copy\n",
      "  df['Response_X'].iloc[i] = np.nan\n"
     ]
    },
    {
     "name": "stdout",
     "output_type": "stream",
     "text": [
      "7973\n",
      "--------------------------------------------------------------------------------\n",
      "addr_15.csv\n",
      "8445\n",
      "--------------------------------------------------------------------------------\n",
      "addr_16.csv\n",
      "8573\n",
      "--------------------------------------------------------------------------------\n",
      "addr_17.csv\n",
      "8545\n",
      "--------------------------------------------------------------------------------\n",
      "addr_18.csv\n",
      "8609\n",
      "--------------------------------------------------------------------------------\n",
      "addr_21.csv\n",
      "8507\n",
      "--------------------------------------------------------------------------------\n",
      "addr_22.csv\n",
      "8511\n",
      "--------------------------------------------------------------------------------\n",
      "addr_23.csv\n",
      "8579\n",
      "--------------------------------------------------------------------------------\n",
      "addr_29.csv\n",
      "10000\n",
      "--------------------------------------------------------------------------------\n",
      "addr_30.csv\n",
      "10000\n",
      "--------------------------------------------------------------------------------\n",
      "addr_31.csv\n",
      "9989\n",
      "--------------------------------------------------------------------------------\n"
     ]
    }
   ],
   "source": [
    "for f in file_list:\n",
    "    path = 'addr_' + str(f) + '.csv'\n",
    "    print(path)\n",
    "    df = pd.read_csv('addr_finish/'+path, on_bad_lines='skip')\n",
    "    df = df.drop(columns=['Response_Address'])\n",
    "    for i in range(len(df)):\n",
    "        if(';' in str(df['Response_X'].iloc[i]) or ';' in str(df['Response_Y'].iloc[i])):   # 去掉回傳筆數大於1的\n",
    "            df['Response_X'].iloc[i] = np.nan\n",
    "        if(df['Response_X'].iloc[i] == '-'):\n",
    "            df['Response_X'].iloc[i] = np.nan\n",
    "    df = df.dropna()\n",
    "\n",
    "    \n",
    "    print(len(df))\n",
    "    df.to_csv('final_addr_table/'+path, index=False)\n",
    "    print('-'*80)"
   ]
  },
  {
   "attachments": {},
   "cell_type": "markdown",
   "metadata": {},
   "source": [
    "---"
   ]
  },
  {
   "attachments": {},
   "cell_type": "markdown",
   "metadata": {},
   "source": [
    "For Excel轉地址"
   ]
  },
  {
   "cell_type": "code",
   "execution_count": 63,
   "metadata": {},
   "outputs": [
    {
     "name": "stdout",
     "output_type": "stream",
     "text": [
      "addr_00.xlsx\n",
      "9921\n",
      "--------------------------------------------------\n",
      "addr_01.xlsx\n"
     ]
    },
    {
     "name": "stderr",
     "output_type": "stream",
     "text": [
      "C:\\Users\\user\\AppData\\Local\\Temp\\ipykernel_5220\\847845976.py:10: SettingWithCopyWarning: \n",
      "A value is trying to be set on a copy of a slice from a DataFrame\n",
      "\n",
      "See the caveats in the documentation: https://pandas.pydata.org/pandas-docs/stable/user_guide/indexing.html#returning-a-view-versus-a-copy\n",
      "  df['Response_X'].iloc[i] = np.nan\n"
     ]
    },
    {
     "name": "stdout",
     "output_type": "stream",
     "text": [
      "9998\n",
      "--------------------------------------------------\n",
      "addr_02.xlsx\n",
      "10000\n",
      "--------------------------------------------------\n",
      "addr_03.xlsx\n",
      "1701\n",
      "--------------------------------------------------\n",
      "addr_19.xlsx\n",
      "10000\n",
      "--------------------------------------------------\n",
      "addr_20.xlsx\n",
      "10000\n",
      "--------------------------------------------------\n",
      "addr_27.xlsx\n",
      "10000\n",
      "--------------------------------------------------\n"
     ]
    }
   ],
   "source": [
    "file_list = ['00', '01', '02', '03', '19', '20', '27']\n",
    "for i in file_list:\n",
    "    path = 'addr_' + i + '.xlsx'\n",
    "    print(path)\n",
    "    output_path = 'addr_' + i + '.csv'\n",
    "    df = pd.read_excel('addr_finish/'+path)\n",
    "    df = pd.DataFrame.from_dict({'id': df['id'], 'Address': df['Address'], 'Response_X':df['Longitude'], 'Response_Y': df['Latitude']})\n",
    "    for i in range(len(df)):\n",
    "        if(df['Response_X'].iloc[i] == '-'):\n",
    "            df['Response_X'].iloc[i] = np.nan\n",
    "    df = df.dropna()\n",
    "    print(len(df))\n",
    "    print('-'*50)\n",
    "    df.to_csv('final_addr_table/'+output_path, index=False)"
   ]
  },
  {
   "attachments": {},
   "cell_type": "markdown",
   "metadata": {},
   "source": [
    "---\n",
    "合併"
   ]
  },
  {
   "cell_type": "code",
   "execution_count": 64,
   "metadata": {},
   "outputs": [],
   "source": [
    "final_table = pd.DataFrame(columns=['id', 'Address', 'Response_X', 'Response_Y'])"
   ]
  },
  {
   "cell_type": "code",
   "execution_count": 65,
   "metadata": {},
   "outputs": [
    {
     "name": "stdout",
     "output_type": "stream",
     "text": [
      "final_addr_table/addr_00.csv\n",
      "final_addr_table/addr_01.csv\n",
      "final_addr_table/addr_02.csv\n",
      "final_addr_table/addr_03.csv\n",
      "final_addr_table/addr_14.csv\n",
      "final_addr_table/addr_15.csv\n",
      "final_addr_table/addr_16.csv\n",
      "final_addr_table/addr_17.csv\n",
      "final_addr_table/addr_18.csv\n",
      "final_addr_table/addr_19.csv\n",
      "final_addr_table/addr_20.csv\n",
      "final_addr_table/addr_21.csv\n",
      "final_addr_table/addr_22.csv\n",
      "final_addr_table/addr_23.csv\n",
      "final_addr_table/addr_27.csv\n",
      "final_addr_table/addr_29.csv\n",
      "final_addr_table/addr_30.csv\n",
      "final_addr_table/addr_31.csv\n",
      "159351\n"
     ]
    }
   ],
   "source": [
    "file_list = ['00', '01', '02', '03', '14', '15', '16', '17', '18', '19', '20', '21', '22', '23', '27', '29', '30', '31']\n",
    "for i in file_list:\n",
    "    path = 'final_addr_table/addr_' + i + '.csv'\n",
    "    print(path)\n",
    "    df = pd.read_csv(path)\n",
    "    final_table = pd.concat([final_table, df])\n",
    "print(len(final_table))"
   ]
  },
  {
   "cell_type": "code",
   "execution_count": 66,
   "metadata": {},
   "outputs": [
    {
     "data": {
      "text/html": [
       "<div>\n",
       "<style scoped>\n",
       "    .dataframe tbody tr th:only-of-type {\n",
       "        vertical-align: middle;\n",
       "    }\n",
       "\n",
       "    .dataframe tbody tr th {\n",
       "        vertical-align: top;\n",
       "    }\n",
       "\n",
       "    .dataframe thead th {\n",
       "        text-align: right;\n",
       "    }\n",
       "</style>\n",
       "<table border=\"1\" class=\"dataframe\">\n",
       "  <thead>\n",
       "    <tr style=\"text-align: right;\">\n",
       "      <th></th>\n",
       "      <th>id</th>\n",
       "      <th>Address</th>\n",
       "      <th>Response_X</th>\n",
       "      <th>Response_Y</th>\n",
       "    </tr>\n",
       "  </thead>\n",
       "  <tbody>\n",
       "    <tr>\n",
       "      <th>0</th>\n",
       "      <td>1</td>\n",
       "      <td>台中市霧峰區台中縣霧峰鄉中正路969號413</td>\n",
       "      <td>120.698724</td>\n",
       "      <td>24.065998</td>\n",
       "    </tr>\n",
       "    <tr>\n",
       "      <th>1</th>\n",
       "      <td>2</td>\n",
       "      <td>台北市松山區敦化北路260號2樓</td>\n",
       "      <td>121.550139</td>\n",
       "      <td>25.061021</td>\n",
       "    </tr>\n",
       "    <tr>\n",
       "      <th>2</th>\n",
       "      <td>3</td>\n",
       "      <td>高雄市鼓山區美術東六路188號15樓</td>\n",
       "      <td>120.289846</td>\n",
       "      <td>22.663962</td>\n",
       "    </tr>\n",
       "    <tr>\n",
       "      <th>3</th>\n",
       "      <td>4</td>\n",
       "      <td>新北市三重區三和路4段252號2樓</td>\n",
       "      <td>121.485997</td>\n",
       "      <td>25.076812</td>\n",
       "    </tr>\n",
       "    <tr>\n",
       "      <th>4</th>\n",
       "      <td>5</td>\n",
       "      <td>新北市汐止區忠孝東路424號2樓</td>\n",
       "      <td>121.666064</td>\n",
       "      <td>25.071837</td>\n",
       "    </tr>\n",
       "  </tbody>\n",
       "</table>\n",
       "</div>"
      ],
      "text/plain": [
       "  id                 Address  Response_X  Response_Y\n",
       "0  1  台中市霧峰區台中縣霧峰鄉中正路969號413  120.698724   24.065998\n",
       "1  2        台北市松山區敦化北路260號2樓  121.550139   25.061021\n",
       "2  3      高雄市鼓山區美術東六路188號15樓  120.289846   22.663962\n",
       "3  4       新北市三重區三和路4段252號2樓  121.485997   25.076812\n",
       "4  5        新北市汐止區忠孝東路424號2樓  121.666064   25.071837"
      ]
     },
     "execution_count": 66,
     "metadata": {},
     "output_type": "execute_result"
    }
   ],
   "source": [
    "final_table.head()"
   ]
  },
  {
   "cell_type": "code",
   "execution_count": 67,
   "metadata": {},
   "outputs": [],
   "source": [
    "l = final_table['Address'].tolist()\n",
    "for i in range(len(l)):\n",
    "    l[i] = l[i].replace(',', ' ')\n",
    "    l[i] = l[i].replace('，', ' ')\n",
    "    l[i] = l[i].replace('\\r', ' ')\n",
    "    l[i] = l[i].replace('\\n', ' ')\n",
    "final_table['Address'] = l"
   ]
  },
  {
   "cell_type": "code",
   "execution_count": 68,
   "metadata": {},
   "outputs": [],
   "source": [
    "id = final_table['id'].tolist()\n",
    "for i in range(len(id)):\n",
    "    id[i] = int(id[i])\n",
    "final_table['id'] = id"
   ]
  },
  {
   "cell_type": "code",
   "execution_count": 69,
   "metadata": {},
   "outputs": [],
   "source": [
    "final_table.to_csv('combined_addr.csv', index=False)"
   ]
  },
  {
   "attachments": {},
   "cell_type": "markdown",
   "metadata": {},
   "source": [
    "---"
   ]
  },
  {
   "cell_type": "code",
   "execution_count": 70,
   "metadata": {},
   "outputs": [
    {
     "name": "stdout",
     "output_type": "stream",
     "text": [
      "Opened database successfully\n"
     ]
    }
   ],
   "source": [
    "import psycopg2\n",
    "\n",
    "# change these to your setting\n",
    "database = 'final_project'\n",
    "user = 'postgres'\n",
    "password = '1234'\n",
    "host = '127.0.0.1'\n",
    "port = '5432'\n",
    "conn = psycopg2.connect(database=database, user=user, password=password, host=host, port=port)\n",
    "with(conn):\n",
    "    print(\"Opened database successfully\")"
   ]
  },
  {
   "cell_type": "code",
   "execution_count": 57,
   "metadata": {},
   "outputs": [
    {
     "name": "stdout",
     "output_type": "stream",
     "text": [
      "import address\n",
      "Table created successfully\n"
     ]
    }
   ],
   "source": [
    "# address\n",
    "print('import address')\n",
    "\n",
    "cur = conn.cursor()\n",
    "cur.execute('''CREATE TABLE address\n",
    "       (ID            int PRIMARY KEY  NOT NULL,\n",
    "       Address        varchar,\n",
    "       Response_X     float8,\n",
    "       Response_Y     float8);''')\n",
    "conn.commit()\n",
    "print(\"Table created successfully\")"
   ]
  },
  {
   "cell_type": "code",
   "execution_count": 71,
   "metadata": {},
   "outputs": [
    {
     "name": "stdout",
     "output_type": "stream",
     "text": [
      "data inserted successfully\n",
      "\n"
     ]
    }
   ],
   "source": [
    "\n",
    "cur = conn.cursor()\n",
    "path = 'combined_addr.csv'\n",
    "with open(path, 'r', encoding='utf-8') as f:\n",
    "    next(f)\n",
    "    cur.copy_from(f, 'address', sep=',', )\n",
    "conn.commit()\n",
    "print(\"data inserted successfully\\n\")\n",
    "\n",
    "cur.execute('''ALTER TABLE address ADD geo geography;''')\n",
    "conn.commit()"
   ]
  },
  {
   "cell_type": "code",
   "execution_count": 72,
   "metadata": {},
   "outputs": [
    {
     "name": "stdout",
     "output_type": "stream",
     "text": [
      "update geography data successfully\n"
     ]
    }
   ],
   "source": [
    "cur.execute('''update address\n",
    "set geo = st_geogfromtext('POINT(' || response_x || ' ' || response_y || ')')\n",
    "where geo is NULL;''')\n",
    "\n",
    "conn.commit()\n",
    "print(\"update geography data successfully\")"
   ]
  },
  {
   "cell_type": "code",
   "execution_count": null,
   "metadata": {},
   "outputs": [],
   "source": []
  }
 ],
 "metadata": {
  "kernelspec": {
   "display_name": "pedro",
   "language": "python",
   "name": "python3"
  },
  "language_info": {
   "codemirror_mode": {
    "name": "ipython",
    "version": 3
   },
   "file_extension": ".py",
   "mimetype": "text/x-python",
   "name": "python",
   "nbconvert_exporter": "python",
   "pygments_lexer": "ipython3",
   "version": "3.8.15 (default, Nov 24 2022, 14:38:14) [MSC v.1916 64 bit (AMD64)]"
  },
  "orig_nbformat": 4,
  "vscode": {
   "interpreter": {
    "hash": "5fe820d5490731be59ca9a0efa49460d11990db3e80174232bc184d990c372a5"
   }
  }
 },
 "nbformat": 4,
 "nbformat_minor": 2
}
