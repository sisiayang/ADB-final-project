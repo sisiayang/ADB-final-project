{
 "cells": [
  {
   "cell_type": "code",
   "execution_count": 3,
   "metadata": {},
   "outputs": [],
   "source": [
    "import pandas as pd"
   ]
  },
  {
   "cell_type": "code",
   "execution_count": 37,
   "metadata": {},
   "outputs": [
    {
     "name": "stdout",
     "output_type": "stream",
     "text": [
      "1438175\n"
     ]
    }
   ],
   "source": [
    "df = pd.read_csv('final_table/order.csv')\n",
    "print(len(df))"
   ]
  },
  {
   "cell_type": "code",
   "execution_count": 42,
   "metadata": {},
   "outputs": [
    {
     "data": {
      "text/html": [
       "<div>\n",
       "<style scoped>\n",
       "    .dataframe tbody tr th:only-of-type {\n",
       "        vertical-align: middle;\n",
       "    }\n",
       "\n",
       "    .dataframe tbody tr th {\n",
       "        vertical-align: top;\n",
       "    }\n",
       "\n",
       "    .dataframe thead th {\n",
       "        text-align: right;\n",
       "    }\n",
       "</style>\n",
       "<table border=\"1\" class=\"dataframe\">\n",
       "  <thead>\n",
       "    <tr style=\"text-align: right;\">\n",
       "      <th></th>\n",
       "      <th>uid</th>\n",
       "      <th>orderid</th>\n",
       "      <th>createtime</th>\n",
       "      <th>product_id</th>\n",
       "      <th>sid</th>\n",
       "      <th>count</th>\n",
       "      <th>address</th>\n",
       "      <th>warehouse</th>\n",
       "      <th>method</th>\n",
       "      <th>city</th>\n",
       "      <th>q</th>\n",
       "    </tr>\n",
       "  </thead>\n",
       "  <tbody>\n",
       "    <tr>\n",
       "      <th>0</th>\n",
       "      <td>d1StqpG4.gZcaYxoLi2l</td>\n",
       "      <td>RM1108030040920</td>\n",
       "      <td>2011-08-03</td>\n",
       "      <td>6009632</td>\n",
       "      <td>6762</td>\n",
       "      <td>1</td>\n",
       "      <td>台南市楠西區茄拔路2巷127號</td>\n",
       "      <td>秋雨</td>\n",
       "      <td>倉出</td>\n",
       "      <td>台南市</td>\n",
       "      <td>Q3</td>\n",
       "    </tr>\n",
       "    <tr>\n",
       "      <th>1</th>\n",
       "      <td>D1UI3BVbKXjzQ624aI9UOg--</td>\n",
       "      <td>RM1107130014826</td>\n",
       "      <td>2011-07-13</td>\n",
       "      <td>2130978</td>\n",
       "      <td>6438</td>\n",
       "      <td>1</td>\n",
       "      <td>苗栗縣通霄鎮南和里166號(飛牛牧場)</td>\n",
       "      <td>新豐</td>\n",
       "      <td>倉出</td>\n",
       "      <td>苗栗縣</td>\n",
       "      <td>Q3</td>\n",
       "    </tr>\n",
       "    <tr>\n",
       "      <th>2</th>\n",
       "      <td>d236NZZSfHulviI6suuTFw--</td>\n",
       "      <td>RM1107070029609</td>\n",
       "      <td>2011-07-07</td>\n",
       "      <td>1904671</td>\n",
       "      <td>4946</td>\n",
       "      <td>4</td>\n",
       "      <td>高雄市楠梓區惠豐街186巷3號9樓</td>\n",
       "      <td>新豐</td>\n",
       "      <td>倉出</td>\n",
       "      <td>高雄市</td>\n",
       "      <td>Q3</td>\n",
       "    </tr>\n",
       "    <tr>\n",
       "      <th>3</th>\n",
       "      <td>d2C9ML6tDHoRMTx1YPU-</td>\n",
       "      <td>RM1108090020702</td>\n",
       "      <td>2011-08-09</td>\n",
       "      <td>1967319</td>\n",
       "      <td>6438</td>\n",
       "      <td>2</td>\n",
       "      <td>屏東縣恆春鎮四溝里興北路95號</td>\n",
       "      <td>新豐</td>\n",
       "      <td>倉出</td>\n",
       "      <td>屏東縣</td>\n",
       "      <td>Q3</td>\n",
       "    </tr>\n",
       "    <tr>\n",
       "      <th>4</th>\n",
       "      <td>d2P6atYlEnwnum_V3yeP</td>\n",
       "      <td>RM1109050021255</td>\n",
       "      <td>2011-09-05</td>\n",
       "      <td>5716861</td>\n",
       "      <td>6330</td>\n",
       "      <td>1</td>\n",
       "      <td>台北市中山區松江路148號5樓之1</td>\n",
       "      <td>新豐</td>\n",
       "      <td>倉出</td>\n",
       "      <td>台北市</td>\n",
       "      <td>Q3</td>\n",
       "    </tr>\n",
       "  </tbody>\n",
       "</table>\n",
       "</div>"
      ],
      "text/plain": [
       "                        uid          orderid  createtime  product_id   sid  \\\n",
       "0      d1StqpG4.gZcaYxoLi2l  RM1108030040920  2011-08-03     6009632  6762   \n",
       "1  D1UI3BVbKXjzQ624aI9UOg--  RM1107130014826  2011-07-13     2130978  6438   \n",
       "2  d236NZZSfHulviI6suuTFw--  RM1107070029609  2011-07-07     1904671  4946   \n",
       "3      d2C9ML6tDHoRMTx1YPU-  RM1108090020702  2011-08-09     1967319  6438   \n",
       "4      d2P6atYlEnwnum_V3yeP  RM1109050021255  2011-09-05     5716861  6330   \n",
       "\n",
       "   count              address warehouse method city   q  \n",
       "0      1      台南市楠西區茄拔路2巷127號        秋雨     倉出  台南市  Q3  \n",
       "1      1  苗栗縣通霄鎮南和里166號(飛牛牧場)        新豐     倉出  苗栗縣  Q3  \n",
       "2      4    高雄市楠梓區惠豐街186巷3號9樓        新豐     倉出  高雄市  Q3  \n",
       "3      2      屏東縣恆春鎮四溝里興北路95號        新豐     倉出  屏東縣  Q3  \n",
       "4      1    台北市中山區松江路148號5樓之1        新豐     倉出  台北市  Q3  "
      ]
     },
     "execution_count": 42,
     "metadata": {},
     "output_type": "execute_result"
    }
   ],
   "source": [
    "df.head()"
   ]
  },
  {
   "attachments": {},
   "cell_type": "markdown",
   "metadata": {},
   "source": [
    "---"
   ]
  },
  {
   "cell_type": "code",
   "execution_count": 43,
   "metadata": {},
   "outputs": [],
   "source": [
    "l = df['address'].tolist()"
   ]
  },
  {
   "cell_type": "code",
   "execution_count": 44,
   "metadata": {},
   "outputs": [],
   "source": [
    "for i in range(len(l)):\n",
    "    l[i] = l[i].replace(',', ' ')\n",
    "    l[i] = l[i].replace('，', ' ')\n",
    "    l[i] = l[i].replace('\\r', ' ')\n",
    "    l[i] = l[i].replace('\\n', ' ')"
   ]
  },
  {
   "cell_type": "code",
   "execution_count": 45,
   "metadata": {},
   "outputs": [],
   "source": [
    "df['address'] = l"
   ]
  },
  {
   "cell_type": "code",
   "execution_count": 50,
   "metadata": {},
   "outputs": [],
   "source": [
    "df.to_csv('final_table/order.csv', index=False)"
   ]
  },
  {
   "cell_type": "code",
   "execution_count": null,
   "metadata": {},
   "outputs": [],
   "source": []
  }
 ],
 "metadata": {
  "kernelspec": {
   "display_name": "base",
   "language": "python",
   "name": "python3"
  },
  "language_info": {
   "codemirror_mode": {
    "name": "ipython",
    "version": 3
   },
   "file_extension": ".py",
   "mimetype": "text/x-python",
   "name": "python",
   "nbconvert_exporter": "python",
   "pygments_lexer": "ipython3",
   "version": "3.9.12"
  },
  "orig_nbformat": 4,
  "vscode": {
   "interpreter": {
    "hash": "a077222d77dfe082b8f1dd562ad70e458ac2ab76993a0b248ab0476e32e9e8dd"
   }
  }
 },
 "nbformat": 4,
 "nbformat_minor": 2
}
