{
 "cells": [
  {
   "cell_type": "markdown",
   "id": "b4ac92a9",
   "metadata": {},
   "source": [
    "### File:\n",
    "- (1) order_by_city.csv\n",
    "- (2) keyword.csv\n",
    "- (3) Main_sku_combined_delete_2.csv\n",
    "\n",
    "### Table:\n",
    "- (1) order_by_city (from 'order_by_city.csv')\n",
    "- (2) keyword (from 'keyword.csv')\n",
    "- (3) main_sku (from 'Main_sku_combined_delete_2.csv')"
   ]
  },
  {
   "cell_type": "code",
   "execution_count": 1,
   "id": "fbd03025",
   "metadata": {},
   "outputs": [],
   "source": [
    "import pandas as pd\n",
    "import psycopg2"
   ]
  },
  {
   "cell_type": "code",
   "execution_count": 5,
   "id": "554fd35c",
   "metadata": {},
   "outputs": [
    {
     "name": "stdout",
     "output_type": "stream",
     "text": [
      "Opened database successfully\n"
     ]
    }
   ],
   "source": [
    "database = 'final_project'\n",
    "user = 'postgres'\n",
    "password = '1234'\n",
    "host = '127.0.0.1'\n",
    "port = '5432'\n",
    "conn = psycopg2.connect(database=database, user=user, password=password, host=host, port=port)\n",
    "with(conn):\n",
    "    print(\"Opened database successfully\")"
   ]
  },
  {
   "cell_type": "code",
   "execution_count": 4,
   "id": "5161af27",
   "metadata": {},
   "outputs": [],
   "source": [
    "conn.close()"
   ]
  },
  {
   "cell_type": "markdown",
   "id": "24abd163",
   "metadata": {},
   "source": [
    "### order_by_city (可與你的 main table 合併)"
   ]
  },
  {
   "cell_type": "code",
   "execution_count": 6,
   "id": "633f2456",
   "metadata": {},
   "outputs": [
    {
     "name": "stdout",
     "output_type": "stream",
     "text": [
      "Table created successfully\n",
      "final_table/order_by_city.csv\n",
      "insert data successfully\n"
     ]
    }
   ],
   "source": [
    "cur = conn.cursor()\n",
    "cur.execute('''CREATE TABLE order_by_city\n",
    "       (Orderid       varchar PRIMARY KEY     NOT NULL,\n",
    "       Product_ID     varchar,\n",
    "       City           varchar,\n",
    "       Q              varchar);''')\n",
    "\n",
    "conn.commit()\n",
    "print(\"Table created successfully\")\n",
    "\n",
    "\n",
    "\n",
    "# ======== insert data =========\n",
    "path = 'final_table/order_by_city.csv'\n",
    "print(path)\n",
    "with open(path, 'r', encoding = 'utf-8') as f:\n",
    "    next(f)\n",
    "    cur.copy_from(f, 'order_by_city', sep = ',', )\n",
    "f.close()\n",
    "print(\"insert data successfully\")\n",
    "conn.commit()"
   ]
  },
  {
   "cell_type": "markdown",
   "id": "c433f339",
   "metadata": {},
   "source": [
    "### main_sku"
   ]
  },
  {
   "cell_type": "code",
   "execution_count": 7,
   "id": "2abc6cea",
   "metadata": {},
   "outputs": [
    {
     "name": "stdout",
     "output_type": "stream",
     "text": [
      "Table created successfully\n",
      "final_table/Main_sku_combined_delete_2.csv\n",
      "insert data successfully\n"
     ]
    }
   ],
   "source": [
    "# cur = conn.cursor()\n",
    "cur.execute('''CREATE TABLE main_sku\n",
    "       (Product_ID    varchar PRIMARY KEY  NOT NULL,\n",
    "       sid            varchar,\n",
    "       Class          varchar,\n",
    "       name           varchar);''')\n",
    "\n",
    "conn.commit()\n",
    "print(\"Table created successfully\")\n",
    "\n",
    "\n",
    "\n",
    "# ======== insert data =========\n",
    "path = 'final_table/Main_sku_combined_delete_2.csv'\n",
    "print(path)\n",
    "with open(path, 'r', encoding = 'utf-8') as f:\n",
    "    next(f)\n",
    "    cur.copy_from(f, 'main_sku', sep = ',', )\n",
    "f.close()\n",
    "print(\"insert data successfully\")\n",
    "conn.commit()"
   ]
  },
  {
   "cell_type": "markdown",
   "id": "c2e62f83",
   "metadata": {},
   "source": [
    "### keyword"
   ]
  },
  {
   "cell_type": "code",
   "execution_count": 8,
   "id": "fb322d67",
   "metadata": {},
   "outputs": [
    {
     "name": "stdout",
     "output_type": "stream",
     "text": [
      "Table created successfully\n",
      "final_table/keyword.csv\n",
      "insert data successfully\n"
     ]
    }
   ],
   "source": [
    "cur.execute('''CREATE TABLE keyword\n",
    "       (Class_ID      varchar PRIMARY KEY  NOT NULL,\n",
    "       k1            varchar,\n",
    "       k2          varchar,\n",
    "       k3           varchar);''')\n",
    "\n",
    "conn.commit()\n",
    "print(\"Table created successfully\")\n",
    "\n",
    "\n",
    "\n",
    "# ======== insert data =========\n",
    "path = 'final_table/keyword.csv'\n",
    "print(path)\n",
    "with open(path, 'r', encoding = 'utf-8') as f:\n",
    "    next(f)\n",
    "    cur.copy_from(f, 'keyword', sep = ',', )\n",
    "f.close()\n",
    "print(\"insert data successfully\")\n",
    "conn.commit()"
   ]
  },
  {
   "cell_type": "code",
   "execution_count": null,
   "id": "5f380aae",
   "metadata": {},
   "outputs": [],
   "source": []
  }
 ],
 "metadata": {
  "kernelspec": {
   "display_name": "pedro",
   "language": "python",
   "name": "python3"
  },
  "language_info": {
   "codemirror_mode": {
    "name": "ipython",
    "version": 3
   },
   "file_extension": ".py",
   "mimetype": "text/x-python",
   "name": "python",
   "nbconvert_exporter": "python",
   "pygments_lexer": "ipython3",
   "version": "3.8.15"
  },
  "vscode": {
   "interpreter": {
    "hash": "5fe820d5490731be59ca9a0efa49460d11990db3e80174232bc184d990c372a5"
   }
  }
 },
 "nbformat": 4,
 "nbformat_minor": 5
}
