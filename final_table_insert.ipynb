{
 "cells": [
  {
   "cell_type": "code",
   "execution_count": 5,
   "metadata": {},
   "outputs": [],
   "source": [
    "# pip install psycopg2"
   ]
  },
  {
   "cell_type": "code",
   "execution_count": 5,
   "metadata": {},
   "outputs": [
    {
     "name": "stdout",
     "output_type": "stream",
     "text": [
      "Opened database successfully\n"
     ]
    }
   ],
   "source": [
    "import psycopg2\n",
    "\n",
    "# change these to your setting\n",
    "database = 'final_project'\n",
    "user = 'postgres'\n",
    "password = '1234'\n",
    "host = '127.0.0.1'\n",
    "port = '5432'\n",
    "conn = psycopg2.connect(database=database, user=user, password=password, host=host, port=port)\n",
    "with(conn):\n",
    "    print(\"Opened database successfully\")"
   ]
  },
  {
   "attachments": {},
   "cell_type": "markdown",
   "metadata": {},
   "source": [
    "### table\n",
    "* address\n",
    "* orders\n",
    "* supplier\n",
    "* warehouse\n",
    "* main_sku (product)\n",
    "* keyword (product class)"
   ]
  },
  {
   "cell_type": "code",
   "execution_count": 7,
   "metadata": {},
   "outputs": [
    {
     "name": "stdout",
     "output_type": "stream",
     "text": [
      "import address\n",
      "Table created successfully\n",
      "data inserted successfully\n",
      "\n"
     ]
    }
   ],
   "source": [
    "# address\n",
    "print('import address')\n",
    "cur = conn.cursor()\n",
    "cur.execute('''CREATE TABLE address\n",
    "       (ID            int PRIMARY KEY  NOT NULL,\n",
    "       Address        varchar,\n",
    "       Response_X     float8,\n",
    "       Response_Y     float8, \n",
    "       geo            geography);''')\n",
    "conn.commit()\n",
    "print(\"Table created successfully\")\n",
    "\n",
    "path = 'final_table/address.csv'\n",
    "with open(path, 'r', encoding='utf-8') as f:\n",
    "    next(f)\n",
    "    cur.copy_from(f, 'address', sep=',', )\n",
    "conn.commit()\n",
    "print(\"data inserted successfully\\n\")"
   ]
  },
  {
   "cell_type": "code",
   "execution_count": 8,
   "metadata": {},
   "outputs": [
    {
     "name": "stdout",
     "output_type": "stream",
     "text": [
      "import order\n",
      "Table created successfully\n",
      "data inserted successfully\n",
      "\n"
     ]
    }
   ],
   "source": [
    "# orders\n",
    "print('import order')\n",
    "cur = conn.cursor()\n",
    "cur.execute('''CREATE TABLE orders\n",
    "       (uid             varchar,\n",
    "       orderid          varchar PRIMARY KEY  NOT NULL,\n",
    "       createtime       date,\n",
    "       product_id       varchar,\n",
    "       sid              varchar,\n",
    "       count            int,\n",
    "       address          varchar,\n",
    "       warehouse        varchar,\n",
    "       method           varchar,\n",
    "       city             varchar,\n",
    "       Q                varchar);''')\n",
    "conn.commit()\n",
    "print(\"Table created successfully\")\n",
    "\n",
    "path = 'final_table/orders.csv'\n",
    "with open(path, 'r', encoding='utf-8') as f:\n",
    "    next(f)\n",
    "    cur.copy_from(f, 'orders', sep=',', )\n",
    "conn.commit()\n",
    "print(\"data inserted successfully\\n\")"
   ]
  },
  {
   "cell_type": "code",
   "execution_count": 9,
   "metadata": {},
   "outputs": [
    {
     "name": "stdout",
     "output_type": "stream",
     "text": [
      "import supplier\n",
      "Table created successfully\n",
      "data inserted successfully\n"
     ]
    }
   ],
   "source": [
    "# supplier\n",
    "print('import supplier')\n",
    "cur = conn.cursor()\n",
    "cur.execute('''CREATE TABLE supplier\n",
    "       (id             varchar PRIMARY KEY  NOT NULL,\n",
    "       name            varchar,\n",
    "       address         varchar);''')\n",
    "conn.commit()\n",
    "print(\"Table created successfully\")\n",
    "\n",
    "path = 'final_table/supplier.csv'\n",
    "with open(path, 'r', encoding='utf-8') as f:\n",
    "    next(f)\n",
    "    cur.copy_from(f, 'supplier', sep=',', )\n",
    "conn.commit()\n",
    "print(\"data inserted successfully\")"
   ]
  },
  {
   "cell_type": "code",
   "execution_count": 10,
   "metadata": {},
   "outputs": [
    {
     "name": "stdout",
     "output_type": "stream",
     "text": [
      "import warehouse\n",
      "Table created successfully\n",
      "data inserted successfully\n"
     ]
    }
   ],
   "source": [
    "# warehouse\n",
    "print('import warehouse')\n",
    "cur = conn.cursor()\n",
    "cur.execute('''CREATE TABLE warehouse\n",
    "       (id             varchar PRIMARY KEY  NOT NULL,\n",
    "       warehouse       varchar,\n",
    "       location        varchar,\n",
    "       address         varchar,\n",
    "       Response_X      float8,\n",
    "       Response_Y      float8, \n",
    "       geo             geography);''')\n",
    "conn.commit()\n",
    "print(\"Table created successfully\")\n",
    "\n",
    "path = 'final_table/warehouse.csv'\n",
    "with open(path, 'r', encoding='utf-8') as f:\n",
    "    next(f)\n",
    "    cur.copy_from(f, 'warehouse', sep=',', )\n",
    "conn.commit()\n",
    "print(\"data inserted successfully\")"
   ]
  },
  {
   "cell_type": "code",
   "execution_count": 11,
   "metadata": {},
   "outputs": [
    {
     "name": "stdout",
     "output_type": "stream",
     "text": [
      "import main_sku\n",
      "Table created successfully\n",
      "insert data successfully\n"
     ]
    }
   ],
   "source": [
    "# main_sku (product)\n",
    "print('import main_sku')\n",
    "cur.execute('''CREATE TABLE main_sku\n",
    "       (Product_ID    varchar PRIMARY KEY  NOT NULL,\n",
    "       sid            varchar,\n",
    "       Class          varchar,\n",
    "       name           varchar);''')\n",
    "\n",
    "conn.commit()\n",
    "print(\"Table created successfully\")\n",
    "\n",
    "\n",
    "\n",
    "# ======== insert data =========\n",
    "path = 'final_table/Main_sku_combined_delete_2.csv'\n",
    "with open(path, 'r', encoding = 'utf-8') as f:\n",
    "    next(f)\n",
    "    cur.copy_from(f, 'main_sku', sep = ',', )\n",
    "f.close()\n",
    "print(\"insert data successfully\")\n",
    "conn.commit()"
   ]
  },
  {
   "cell_type": "code",
   "execution_count": 12,
   "metadata": {},
   "outputs": [
    {
     "name": "stdout",
     "output_type": "stream",
     "text": [
      "import keyword\n",
      "Table created successfully\n",
      "insert data successfully\n"
     ]
    }
   ],
   "source": [
    "# keyword of product (class)\n",
    "print('import keyword')\n",
    "cur.execute('''CREATE TABLE keyword\n",
    "       (Class_ID      varchar PRIMARY KEY  NOT NULL,\n",
    "       k1            varchar,\n",
    "       k2          varchar,\n",
    "       k3           varchar);''')\n",
    "\n",
    "conn.commit()\n",
    "print(\"Table created successfully\")\n",
    "\n",
    "# ======== insert data =========\n",
    "path = 'final_table/keyword.csv'\n",
    "with open(path, 'r', encoding = 'utf-8') as f:\n",
    "    next(f)\n",
    "    cur.copy_from(f, 'keyword', sep = ',', )\n",
    "f.close()\n",
    "print(\"insert data successfully\")\n",
    "conn.commit()"
   ]
  },
  {
   "cell_type": "code",
   "execution_count": 8,
   "metadata": {},
   "outputs": [],
   "source": [
    "conn.close()"
   ]
  },
  {
   "cell_type": "code",
   "execution_count": null,
   "metadata": {},
   "outputs": [],
   "source": []
  }
 ],
 "metadata": {
  "kernelspec": {
   "display_name": "base",
   "language": "python",
   "name": "python3"
  },
  "language_info": {
   "codemirror_mode": {
    "name": "ipython",
    "version": 3
   },
   "file_extension": ".py",
   "mimetype": "text/x-python",
   "name": "python",
   "nbconvert_exporter": "python",
   "pygments_lexer": "ipython3",
   "version": "3.9.12"
  },
  "orig_nbformat": 4,
  "vscode": {
   "interpreter": {
    "hash": "a077222d77dfe082b8f1dd562ad70e458ac2ab76993a0b248ab0476e32e9e8dd"
   }
  }
 },
 "nbformat": 4,
 "nbformat_minor": 2
}
