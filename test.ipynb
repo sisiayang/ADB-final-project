{
 "cells": [
  {
   "cell_type": "code",
   "execution_count": null,
   "metadata": {},
   "outputs": [],
   "source": [
    "import pandas as pd"
   ]
  },
  {
   "cell_type": "code",
   "execution_count": null,
   "metadata": {},
   "outputs": [],
   "source": [
    "df = pd.read_csv('supplier_delete.csv')\n",
    "df = df.rename(columns={'供應商代號': 'id', '供應商名稱': 'name', '供應商出貨地址': 'address'})\n",
    "\n",
    "print(len(df))\n",
    "print(len(pd.unique(df['id'])))\n",
    "df = df.drop_duplicates(subset=['id'])\n",
    "\n",
    "for i in range(len(df)):\n",
    "    df['address'].iloc[i] = df['address'].iloc[i].replace(',', ' ')\n",
    "\n",
    "df.to_csv('supplier_delete.csv', index=False)"
   ]
  },
  {
   "cell_type": "code",
   "execution_count": null,
   "metadata": {},
   "outputs": [],
   "source": [
    "df = pd.read_csv('Main_sku_combined_delete.csv')\n",
    "df = df.drop(columns=['Unnamed: 0'])\n",
    "df = df.rename(columns={'商品編號': 'id', '供應商代號': 'sid', '父類': 'class', '商品名稱':'name', '倉別': 'warehouse'})\n",
    "print(len(df))\n",
    "print(len(pd.unique(df['id'])))\n",
    "for i in range(len(df)):\n",
    "    df['name'].iloc[i] = df['name'].iloc[i].replace(',', ' ')\n",
    "    df['name'].iloc[i] = df['name'].iloc[i].replace('\\r', ' ')\n",
    "    df['name'].iloc[i] = df['name'].iloc[i].replace('\\n', ' ')\n",
    "\n",
    "df_withough_warehouse = df.drop(columns=['warehouse'])\n",
    "df_withough_warehouse.to_csv('Main_sku_combined_delete.csv', index=False)"
   ]
  },
  {
   "cell_type": "code",
   "execution_count": null,
   "metadata": {},
   "outputs": [],
   "source": [
    "df_warehouse = pd.DataFrame.from_dict({'id': df['id'], 'warehouse': df['warehouse']})\n",
    "df_warehouse.head()\n",
    "print(len(df_warehouse))\n",
    "print(len(df_warehouse.dropna()))\n",
    "df_warehouse = df_warehouse.dropna()\n",
    "df_warehouse.head()"
   ]
  },
  {
   "cell_type": "code",
   "execution_count": null,
   "metadata": {},
   "outputs": [],
   "source": [
    "product_warehouse_df = pd.DataFrame(columns=['id', 'warehouse'])"
   ]
  },
  {
   "cell_type": "code",
   "execution_count": null,
   "metadata": {},
   "outputs": [],
   "source": [
    "for i in range(len(df_warehouse)):\n",
    "    for w in ['秋雨', '新豐', '東源']:\n",
    "        if(w in df_warehouse['warehouse'].iloc[i]):\n",
    "            tmp = pd.DataFrame.from_dict({'id': [df_warehouse['id'].iloc[i]], 'warehouse': [w]})\n",
    "            product_warehouse_df = pd.concat([product_warehouse_df, tmp])"
   ]
  },
  {
   "cell_type": "code",
   "execution_count": null,
   "metadata": {},
   "outputs": [],
   "source": [
    "product_warehouse_df.to_csv('product_warehouse.csv', index=False)"
   ]
  },
  {
   "attachments": {},
   "cell_type": "markdown",
   "metadata": {},
   "source": [
    "---"
   ]
  },
  {
   "cell_type": "code",
   "execution_count": null,
   "metadata": {},
   "outputs": [],
   "source": [
    "df = pd.read_csv('valid_order_delete.csv')\n",
    "df = df.drop(columns=['Unnamed: 0', 'RG', '出貨單號', '出貨日', '累計配送次數'])\n",
    "\n",
    "df.head()"
   ]
  },
  {
   "cell_type": "code",
   "execution_count": null,
   "metadata": {},
   "outputs": [],
   "source": [
    "df2 = df.groupby(['訂單編號'])['子單編號'].agg('count')\n",
    "df3 = df.drop_duplicates('訂單編號')\n",
    "df3['count'] = df2.tolist()\n",
    "\n",
    "df3 = df3.reset_index(drop=True)"
   ]
  },
  {
   "cell_type": "code",
   "execution_count": null,
   "metadata": {},
   "outputs": [],
   "source": [
    "id = [int(i) for i in df3['商品編號']]\n",
    "df3['商品編號'] = id"
   ]
  },
  {
   "cell_type": "code",
   "execution_count": null,
   "metadata": {},
   "outputs": [],
   "source": [
    "new_col = ['uid', 'orderid', 'suborderid', 'createtime', 'pid', 'address', 'warehouse', 'method', 'count']\n",
    "old_col = df3.columns\n",
    "df3 = df3.rename(columns={old_col[i]: new_col[i] for i in range(len(new_col))})\n",
    "df3"
   ]
  },
  {
   "cell_type": "code",
   "execution_count": null,
   "metadata": {},
   "outputs": [],
   "source": [
    "df3.to_csv('valid_order.csv', index=False)"
   ]
  },
  {
   "attachments": {},
   "cell_type": "markdown",
   "metadata": {},
   "source": [
    "---"
   ]
  },
  {
   "cell_type": "code",
   "execution_count": null,
   "metadata": {},
   "outputs": [],
   "source": [
    "product_df = pd.read_csv('Main_sku_combined_delete.csv')\n",
    "product_df.head()"
   ]
  },
  {
   "cell_type": "code",
   "execution_count": null,
   "metadata": {},
   "outputs": [],
   "source": [
    "df = pd.read_csv('order_with_supplier.csv')"
   ]
  },
  {
   "attachments": {},
   "cell_type": "markdown",
   "metadata": {},
   "source": [
    "---"
   ]
  },
  {
   "cell_type": "code",
   "execution_count": null,
   "metadata": {},
   "outputs": [],
   "source": [
    "df = pd.read_csv('warehouse_info.csv')\n",
    "df"
   ]
  },
  {
   "cell_type": "code",
   "execution_count": null,
   "metadata": {},
   "outputs": [],
   "source": [
    "new_x = []\n",
    "new_y = []\n",
    "for i in range(len(df)):\n",
    "    new_x.append((df['response_x1'].iloc[i]+df['response_x2'].iloc[i])/2)\n",
    "    new_y.append((df['response_y1'].iloc[i]+df['response_y2'].iloc[i])/2)"
   ]
  },
  {
   "cell_type": "code",
   "execution_count": null,
   "metadata": {},
   "outputs": [],
   "source": [
    "df_new = pd.DataFrame.from_dict({'id': df['id'], 'warehouse': df['warehouse'], 'location': df['location'], 'address': df['address'], 'response_x': new_x, 'response_y': new_y})"
   ]
  },
  {
   "cell_type": "code",
   "execution_count": null,
   "metadata": {},
   "outputs": [],
   "source": [
    "df_new.to_csv('warehouse_info.csv', index=False)"
   ]
  },
  {
   "attachments": {},
   "cell_type": "markdown",
   "metadata": {},
   "source": [
    "---"
   ]
  },
  {
   "cell_type": "code",
   "execution_count": null,
   "metadata": {},
   "outputs": [],
   "source": [
    "df = pd.read_csv('final_table/order_with_supplier.csv')\n",
    "df.head()"
   ]
  },
  {
   "cell_type": "code",
   "execution_count": null,
   "metadata": {},
   "outputs": [],
   "source": [
    "for i in range(len(df)):\n",
    "    df['address'].iloc[i] = df['address'].iloc[i].replace(',', ' ')\n",
    "    df['address'].iloc[i] = df['address'].iloc[i].replace('，', ' ')\n",
    "    df['address'].iloc[i] = df['address'].iloc[i].replace('\\r', ' ')\n",
    "    df['address'].iloc[i] = df['address'].iloc[i].replace('\\n', ' ')"
   ]
  },
  {
   "cell_type": "code",
   "execution_count": null,
   "metadata": {},
   "outputs": [],
   "source": [
    "df[df['orderid']=='RM1109280001938']"
   ]
  },
  {
   "cell_type": "code",
   "execution_count": null,
   "metadata": {},
   "outputs": [],
   "source": [
    "df.to_csv('final_table/order_with_supplier.csv', index=False)"
   ]
  }
 ],
 "metadata": {
  "kernelspec": {
   "display_name": "base",
   "language": "python",
   "name": "python3"
  },
  "language_info": {
   "codemirror_mode": {
    "name": "ipython",
    "version": 3
   },
   "file_extension": ".py",
   "mimetype": "text/x-python",
   "name": "python",
   "nbconvert_exporter": "python",
   "pygments_lexer": "ipython3",
   "version": "3.9.12 (main, Apr  4 2022, 05:22:27) [MSC v.1916 64 bit (AMD64)]"
  },
  "orig_nbformat": 4,
  "vscode": {
   "interpreter": {
    "hash": "a077222d77dfe082b8f1dd562ad70e458ac2ab76993a0b248ab0476e32e9e8dd"
   }
  }
 },
 "nbformat": 4,
 "nbformat_minor": 2
}
